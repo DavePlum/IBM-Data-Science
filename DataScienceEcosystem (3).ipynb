{
 "cells": [
  {
   "cell_type": "markdown",
   "id": "0214a502",
   "metadata": {},
   "source": [
    "# Data Science Tools and Ecosystem"
   ]
  },
  {
   "cell_type": "markdown",
   "id": "f0e3f92a",
   "metadata": {},
   "source": [
    "This notebook summarizes data science tools and the ecosystem."
   ]
  },
  {
   "cell_type": "markdown",
   "id": "7a65211e",
   "metadata": {},
   "source": [
    "**Objectives:**\n",
    "- List popular data science languages\n",
    "- List common libraries for Python and R\n",
    "- List a few data science tools for open source development environments\n",
    "- Demonstrate simple arithmetic expressions in Python"
   ]
  },
  {
   "cell_type": "markdown",
   "id": "121606dc",
   "metadata": {},
   "source": [
    "Some of the popular data science languages are:\n",
    "1. Python\n",
    "2. R\n",
    "3. Julia"
   ]
  },
  {
   "cell_type": "markdown",
   "id": "2ea30b9d",
   "metadata": {},
   "source": [
    "Some of the commonly used Pyhton libraries used by Data Scientists include:\n",
    "1. Matplotlib (data visualization)\n",
    "2. Pandas (data cleaning, manipulation, analysis)\n",
    "3. Scikit-learn (statistical modeling)\n",
    "\n",
    "R libraries include:\n",
    "1. Caret (machine learning)\n",
    "2. Dplyr (data manipulation, transformation)\n",
    "3. ggplot2 (data visualization)                                                      "
   ]
  },
  {
   "cell_type": "markdown",
   "id": "9d05958d",
   "metadata": {},
   "source": [
    "Open Source Development Environment:             "
   ]
  },
  {
   "cell_type": "markdown",
   "id": "37a72cf6",
   "metadata": {},
   "source": [
    "|Data Science Tools|\n",
    "|------------------|\n",
    "|RStudio|\n",
    "|Jupyter Notebooks|\n",
    "|Apache Spark (cluster execution)|        "
   ]
  },
  {
   "cell_type": "markdown",
   "id": "500ceca6",
   "metadata": {},
   "source": [
    "### Below are some examples of arithmetic expressions in Python.     "
   ]
  },
  {
   "cell_type": "code",
   "execution_count": 1,
   "id": "9580f4ef",
   "metadata": {},
   "outputs": [
    {
     "data": {
      "text/plain": [
       "17"
      ]
     },
     "execution_count": 1,
     "metadata": {},
     "output_type": "execute_result"
    }
   ],
   "source": [
    "# This is a simple arithmetic expression to multiply and then add integers.\n",
    "(3*4)+5"
   ]
  },
  {
   "cell_type": "code",
   "execution_count": 2,
   "id": "697ce542",
   "metadata": {},
   "outputs": [
    {
     "data": {
      "text/plain": [
       "3.3333333333333335"
      ]
     },
     "execution_count": 2,
     "metadata": {},
     "output_type": "execute_result"
    }
   ],
   "source": [
    "#This next expression converts 200 minutes to hours by dividng by 60.\n",
    "200/60"
   ]
  },
  {
   "cell_type": "markdown",
   "id": "7474a28e",
   "metadata": {},
   "source": [
    "## Author\n",
    "Dave Plumstead"
   ]
  },
  {
   "cell_type": "code",
   "execution_count": null,
   "id": "395c4c38",
   "metadata": {},
   "outputs": [],
   "source": []
  }
 ],
 "metadata": {
  "kernelspec": {
   "display_name": "Python 3 (ipykernel)",
   "language": "python",
   "name": "python3"
  },
  "language_info": {
   "codemirror_mode": {
    "name": "ipython",
    "version": 3
   },
   "file_extension": ".py",
   "mimetype": "text/x-python",
   "name": "python",
   "nbconvert_exporter": "python",
   "pygments_lexer": "ipython3",
   "version": "3.11.5"
  }
 },
 "nbformat": 4,
 "nbformat_minor": 5
}
